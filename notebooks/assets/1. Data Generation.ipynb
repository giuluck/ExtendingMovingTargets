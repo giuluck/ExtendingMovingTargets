{
 "cells": [
  {
   "cell_type": "code",
   "execution_count": 1,
   "metadata": {
    "slideshow": {
     "slide_type": "skip"
    }
   },
   "outputs": [
    {
     "name": "stdout",
     "output_type": "stream",
     "text": [
      "Covasim 2.0.2 (2020-02-01) — © 2021 by IDM\n"
     ]
    }
   ],
   "source": [
    "import pandas as pd\n",
    "import covasim as cv\n",
    "\n",
    "from util import comb"
   ]
  },
  {
   "cell_type": "markdown",
   "metadata": {
    "pycharm": {
     "name": "#%% md\n"
    },
    "slideshow": {
     "slide_type": "slide"
    }
   },
   "source": [
    "# Simulator"
   ]
  },
  {
   "cell_type": "markdown",
   "metadata": {
    "slideshow": {
     "slide_type": "subslide"
    }
   },
   "source": [
    "## Covasim\n",
    "\n",
    "**Covasim** is a stochastic agent-based simulator for performing COVID-19 analyses. These include projections of indicators such as numbers of infections and peak hospital demand. It can also be used to explore the potential impact of different interventions, including social distancing, school closures, testing, contact tracing, quarantine, and vaccination.\n",
    "\n",
    "The scientific paper describing Covasim is available at http://paper.covasim.org."
   ]
  },
  {
   "cell_type": "markdown",
   "metadata": {
    "pycharm": {
     "name": "#%% md\n"
    },
    "slideshow": {
     "slide_type": "subslide"
    }
   },
   "source": [
    "## Running a Simulation\n",
    "\n",
    "Running simulations in Covasim can be done using the `cv.Sim()` command, which accepts a dictionary of simulation parameters. The most common parameters to modify are the population size, the initial number of people infected, and the start and end dates of the simulation. The comprehensive list of parameters is available [here](https://docs.idmod.org/projects/covasim/en/latest/parameters.html).\n",
    "\n",
    "Here, we fix the population size to `10000` and we use the `hybrid` population type, which guarantees the best trade-off between computational cost and realistic interaction among agents."
   ]
  },
  {
   "cell_type": "code",
   "execution_count": 2,
   "metadata": {
    "slideshow": {
     "slide_type": "fragment"
    }
   },
   "outputs": [],
   "source": [
    "pars = dict(\n",
    "  pop_type='hybrid',\n",
    "  pop_size=10000\n",
    ")\n",
    "\n",
    "sim = cv.Sim(pars)"
   ]
  },
  {
   "cell_type": "markdown",
   "metadata": {
    "slideshow": {
     "slide_type": "subslide"
    }
   },
   "source": [
    "These are the default values of some parameters which may be of interest."
   ]
  },
  {
   "cell_type": "code",
   "execution_count": 3,
   "metadata": {
    "pycharm": {
     "name": "#%%\n"
    },
    "slideshow": {
     "slide_type": "fragment"
    }
   },
   "outputs": [
    {
     "name": "stdout",
     "output_type": "stream",
     "text": [
      "beta          --> 0.016\n",
      "contacts      --> {'h': 2.0, 's': 20, 'w': 16, 'c': 20}\n",
      "dynam_layer   --> {'h': 0, 's': 0, 'w': 0, 'c': 0}\n",
      "beta_layer    --> {'h': 3.0, 's': 0.6, 'w': 0.6, 'c': 0.3}\n",
      "n_imports     --> 0\n",
      "asymp_factor  --> 1.0\n",
      "iso_factor    --> {'h': 0.3, 's': 0.1, 'w': 0.1, 'c': 0.1}\n",
      "quar_factor   --> {'h': 0.6, 's': 0.2, 'w': 0.2, 'c': 0.2}\n",
      "quar_period   --> 14\n"
     ]
    }
   ],
   "source": [
    "parameters = [\n",
    " 'beta',         # beta per symptomatic contact\n",
    " 'contacts',     # the number of contacts per layer\n",
    " 'dynam_layer',  # which layers are dynamic\n",
    " 'beta_layer',   # transmissibility per layer\n",
    " 'n_imports',    # average daily number of imported cases (actual number is drawn from Poisson distribution)\n",
    " 'asymp_factor', # multiply beta by this factor for asymptomatic cases; no statistically significant difference in transmissibility\n",
    " 'iso_factor',   # multiply beta by this factor for diganosed cases to represent isolation\n",
    " 'quar_factor',  # quarantine multiplier on transmissibility and susceptibility\n",
    " 'quar_period'   # number of days to quarantine for\n",
    "]\n",
    "\n",
    "for key in parameters:\n",
    "  print(f'{key:13} --> {sim[key]}')"
   ]
  },
  {
   "cell_type": "markdown",
   "metadata": {
    "slideshow": {
     "slide_type": "subslide"
    }
   },
   "source": [
    "The execution of a simulation produces the following results:"
   ]
  },
  {
   "cell_type": "code",
   "execution_count": 4,
   "metadata": {
    "pycharm": {
     "name": "#%%\n"
    },
    "slideshow": {
     "slide_type": "fragment"
    }
   },
   "outputs": [
    {
     "name": "stdout",
     "output_type": "stream",
     "text": [
      "Initializing sim with 10000 people for 60 days\n",
      "  Running 2020-03-01 ( 0/60) (0.56 s)  ———————————————————— 2%\n",
      "  Running 2020-03-11 (10/60) (0.64 s)  •••————————————————— 18%\n",
      "  Running 2020-03-21 (20/60) (0.72 s)  ••••••—————————————— 34%\n",
      "  Running 2020-03-31 (30/60) (0.83 s)  ••••••••••—————————— 51%\n",
      "  Running 2020-04-10 (40/60) (0.92 s)  •••••••••••••——————— 67%\n",
      "  Running 2020-04-20 (50/60) (1.01 s)  ••••••••••••••••———— 84%\n",
      "  Running 2020-04-30 (60/60) (1.14 s)  •••••••••••••••••••• 100%\n",
      "\n",
      "Simulation summary:\n",
      "    6342 cumulative infections\n",
      "    5377 cumulative infectious\n",
      "       0 cumulative tests\n",
      "       0 cumulative diagnoses\n",
      "    3066 cumulative recoveries\n",
      "    3494 cumulative symptomatic cases\n",
      "     205 cumulative severe cases\n",
      "      49 cumulative critical cases\n",
      "       9 cumulative deaths\n",
      "       0 cumulative quarantined people\n",
      "\n"
     ]
    }
   ],
   "source": [
    "sim.run()"
   ]
  },
  {
   "cell_type": "markdown",
   "metadata": {
    "pycharm": {
     "name": "#%% md\n"
    },
    "slideshow": {
     "slide_type": "subslide"
    }
   },
   "source": [
    "## Running multiple simulations\n",
    "\n",
    "As we are aiming to use Covasim to generate realistic data, we will need to run more than one simulation simultaneously. The most common way to run multiple simulations is with the `MultiSim` object. As the name suggests, this is a relatively simple container for a number of sims. However, it contains powerful methods for plotting, statistics, and running all the sims in parallel."
   ]
  },
  {
   "cell_type": "code",
   "execution_count": 5,
   "metadata": {
    "pycharm": {
     "name": "#%%\n"
    },
    "slideshow": {
     "slide_type": "fragment"
    }
   },
   "outputs": [
    {
     "data": {
      "text/plain": [
       "[('rand_seed', range(0, 3)), ('beta', [0.01, 0.02, 0.03])]"
      ]
     },
     "execution_count": 5,
     "metadata": {},
     "output_type": "execute_result"
    }
   ],
   "source": [
    "multi_pars = [ (k, v) for k, v in dict(\n",
    "  rand_seed = range(3),\n",
    "  beta = [0.01, 0.02, 0.03]\n",
    ").items()]\n",
    "\n",
    "multi_pars"
   ]
  },
  {
   "cell_type": "markdown",
   "metadata": {
    "slideshow": {
     "slide_type": "subslide"
    }
   },
   "source": [
    "We rely on our utility function `cartesian_product` to generate a list of python dictionaries containing all the possible combinations of the parameters that we are willing to explore. In the end, the total number of configurations will be given by the product of the number of values which can be assumed by each variable parameter. E.g., in this case, we have three possible values for `rand_seed` and three possible values for `beta`, for a total of $3 \\cdot 3 = 9$ configurations."
   ]
  },
  {
   "cell_type": "code",
   "execution_count": 6,
   "metadata": {
    "pycharm": {
     "name": "#%%\n"
    },
    "slideshow": {
     "slide_type": "fragment"
    }
   },
   "outputs": [
    {
     "data": {
      "text/plain": [
       "9"
      ]
     },
     "execution_count": 6,
     "metadata": {},
     "output_type": "execute_result"
    }
   ],
   "source": [
    "fixed_pars = dict(\n",
    "  pop_type='hybrid',\n",
    "  pop_size=10000,\n",
    "  verbose=0\n",
    ")\n",
    "\n",
    "pars_list = comb.cartesian_product(multi_pars, fixed_pars)\n",
    "len(pars_list)"
   ]
  },
  {
   "cell_type": "markdown",
   "metadata": {
    "slideshow": {
     "slide_type": "subslide"
    }
   },
   "source": [
    "We can now map each configuration into a Covasim `Sim` object, and then create and run the `MultiSim`."
   ]
  },
  {
   "cell_type": "code",
   "execution_count": 7,
   "metadata": {
    "pycharm": {
     "name": "#%%\n"
    },
    "slideshow": {
     "slide_type": "fragment"
    }
   },
   "outputs": [
    {
     "name": "stdout",
     "output_type": "stream",
     "text": [
      "MultiSim(n_sims: 9; base: Sim(\"Sim 0\"; 2020-03-01 to 2020-04-30; pop: 10000 hybrid; epi: not run))\n"
     ]
    }
   ],
   "source": [
    "sims = [cv.Sim(pars, label=f'Sim {i}') for i, pars in enumerate(pars_list)]\n",
    "msim = cv.MultiSim(sims)\n",
    "msim.brief()"
   ]
  },
  {
   "cell_type": "code",
   "execution_count": 8,
   "metadata": {
    "pycharm": {
     "name": "#%%\n"
    },
    "slideshow": {
     "slide_type": "-"
    }
   },
   "outputs": [
    {
     "name": "stdout",
     "output_type": "stream",
     "text": [
      "CPU times: user 68.2 ms, sys: 46.4 ms, total: 115 ms\n",
      "Wall time: 6.51 s\n"
     ]
    }
   ],
   "source": [
    "%%time\n",
    "msim.run()"
   ]
  },
  {
   "cell_type": "markdown",
   "metadata": {
    "slideshow": {
     "slide_type": "subslide"
    }
   },
   "source": [
    "Finally, we collect the results of each simulation into a pandas dataframe. Of all the possible outputs returned by a simulation, we just keep the *cumulative* data, namely the statistics regarding the entire simulation span and not just the final simulated day."
   ]
  },
  {
   "cell_type": "code",
   "execution_count": 9,
   "metadata": {
    "pycharm": {
     "name": "#%%\n"
    },
    "slideshow": {
     "slide_type": "fragment"
    }
   },
   "outputs": [
    {
     "data": {
      "text/html": [
       "<div>\n",
       "<style scoped>\n",
       "    .dataframe tbody tr th:only-of-type {\n",
       "        vertical-align: middle;\n",
       "    }\n",
       "\n",
       "    .dataframe tbody tr th {\n",
       "        vertical-align: top;\n",
       "    }\n",
       "\n",
       "    .dataframe thead th {\n",
       "        text-align: right;\n",
       "    }\n",
       "</style>\n",
       "<table border=\"1\" class=\"dataframe\">\n",
       "  <thead>\n",
       "    <tr style=\"text-align: right;\">\n",
       "      <th></th>\n",
       "      <th>cum_infections</th>\n",
       "      <th>cum_infectious</th>\n",
       "      <th>cum_tests</th>\n",
       "      <th>cum_diagnoses</th>\n",
       "      <th>cum_recoveries</th>\n",
       "      <th>cum_symptomatic</th>\n",
       "      <th>cum_severe</th>\n",
       "      <th>cum_critical</th>\n",
       "      <th>cum_deaths</th>\n",
       "      <th>cum_quarantined</th>\n",
       "    </tr>\n",
       "  </thead>\n",
       "  <tbody>\n",
       "    <tr>\n",
       "      <th>0</th>\n",
       "      <td>1653.0</td>\n",
       "      <td>1358.0</td>\n",
       "      <td>0.0</td>\n",
       "      <td>0.0</td>\n",
       "      <td>917.0</td>\n",
       "      <td>919.0</td>\n",
       "      <td>53.0</td>\n",
       "      <td>12.0</td>\n",
       "      <td>2.0</td>\n",
       "      <td>0.0</td>\n",
       "    </tr>\n",
       "    <tr>\n",
       "      <th>1</th>\n",
       "      <td>8280.0</td>\n",
       "      <td>7827.0</td>\n",
       "      <td>0.0</td>\n",
       "      <td>0.0</td>\n",
       "      <td>5824.0</td>\n",
       "      <td>5174.0</td>\n",
       "      <td>354.0</td>\n",
       "      <td>79.0</td>\n",
       "      <td>24.0</td>\n",
       "      <td>0.0</td>\n",
       "    </tr>\n",
       "    <tr>\n",
       "      <th>2</th>\n",
       "      <td>9367.0</td>\n",
       "      <td>9356.0</td>\n",
       "      <td>0.0</td>\n",
       "      <td>0.0</td>\n",
       "      <td>9123.0</td>\n",
       "      <td>6332.0</td>\n",
       "      <td>524.0</td>\n",
       "      <td>141.0</td>\n",
       "      <td>55.0</td>\n",
       "      <td>0.0</td>\n",
       "    </tr>\n",
       "    <tr>\n",
       "      <th>3</th>\n",
       "      <td>1164.0</td>\n",
       "      <td>945.0</td>\n",
       "      <td>0.0</td>\n",
       "      <td>0.0</td>\n",
       "      <td>569.0</td>\n",
       "      <td>621.0</td>\n",
       "      <td>31.0</td>\n",
       "      <td>9.0</td>\n",
       "      <td>1.0</td>\n",
       "      <td>0.0</td>\n",
       "    </tr>\n",
       "    <tr>\n",
       "      <th>4</th>\n",
       "      <td>8266.0</td>\n",
       "      <td>7686.0</td>\n",
       "      <td>0.0</td>\n",
       "      <td>0.0</td>\n",
       "      <td>5449.0</td>\n",
       "      <td>5103.0</td>\n",
       "      <td>363.0</td>\n",
       "      <td>89.0</td>\n",
       "      <td>17.0</td>\n",
       "      <td>0.0</td>\n",
       "    </tr>\n",
       "    <tr>\n",
       "      <th>5</th>\n",
       "      <td>9376.0</td>\n",
       "      <td>9348.0</td>\n",
       "      <td>0.0</td>\n",
       "      <td>0.0</td>\n",
       "      <td>8990.0</td>\n",
       "      <td>6306.0</td>\n",
       "      <td>520.0</td>\n",
       "      <td>146.0</td>\n",
       "      <td>60.0</td>\n",
       "      <td>0.0</td>\n",
       "    </tr>\n",
       "    <tr>\n",
       "      <th>6</th>\n",
       "      <td>2908.0</td>\n",
       "      <td>2414.0</td>\n",
       "      <td>0.0</td>\n",
       "      <td>0.0</td>\n",
       "      <td>1518.0</td>\n",
       "      <td>1580.0</td>\n",
       "      <td>83.0</td>\n",
       "      <td>20.0</td>\n",
       "      <td>4.0</td>\n",
       "      <td>0.0</td>\n",
       "    </tr>\n",
       "    <tr>\n",
       "      <th>7</th>\n",
       "      <td>8810.0</td>\n",
       "      <td>8664.0</td>\n",
       "      <td>0.0</td>\n",
       "      <td>0.0</td>\n",
       "      <td>7650.0</td>\n",
       "      <td>5846.0</td>\n",
       "      <td>433.0</td>\n",
       "      <td>108.0</td>\n",
       "      <td>35.0</td>\n",
       "      <td>0.0</td>\n",
       "    </tr>\n",
       "    <tr>\n",
       "      <th>8</th>\n",
       "      <td>9493.0</td>\n",
       "      <td>9487.0</td>\n",
       "      <td>0.0</td>\n",
       "      <td>0.0</td>\n",
       "      <td>9282.0</td>\n",
       "      <td>6363.0</td>\n",
       "      <td>505.0</td>\n",
       "      <td>149.0</td>\n",
       "      <td>46.0</td>\n",
       "      <td>0.0</td>\n",
       "    </tr>\n",
       "  </tbody>\n",
       "</table>\n",
       "</div>"
      ],
      "text/plain": [
       "   cum_infections  cum_infectious  cum_tests  cum_diagnoses  cum_recoveries  \\\n",
       "0          1653.0          1358.0        0.0            0.0           917.0   \n",
       "1          8280.0          7827.0        0.0            0.0          5824.0   \n",
       "2          9367.0          9356.0        0.0            0.0          9123.0   \n",
       "3          1164.0           945.0        0.0            0.0           569.0   \n",
       "4          8266.0          7686.0        0.0            0.0          5449.0   \n",
       "5          9376.0          9348.0        0.0            0.0          8990.0   \n",
       "6          2908.0          2414.0        0.0            0.0          1518.0   \n",
       "7          8810.0          8664.0        0.0            0.0          7650.0   \n",
       "8          9493.0          9487.0        0.0            0.0          9282.0   \n",
       "\n",
       "   cum_symptomatic  cum_severe  cum_critical  cum_deaths  cum_quarantined  \n",
       "0            919.0        53.0          12.0         2.0              0.0  \n",
       "1           5174.0       354.0          79.0        24.0              0.0  \n",
       "2           6332.0       524.0         141.0        55.0              0.0  \n",
       "3            621.0        31.0           9.0         1.0              0.0  \n",
       "4           5103.0       363.0          89.0        17.0              0.0  \n",
       "5           6306.0       520.0         146.0        60.0              0.0  \n",
       "6           1580.0        83.0          20.0         4.0              0.0  \n",
       "7           5846.0       433.0         108.0        35.0              0.0  \n",
       "8           6363.0       505.0         149.0        46.0              0.0  "
      ]
     },
     "execution_count": 9,
     "metadata": {},
     "output_type": "execute_result"
    }
   ],
   "source": [
    "keys = [key for key in msim.sims[0].summary.keys() if 'cum' in key]\n",
    "values = [sim.summary[keys] for sim in msim.sims]\n",
    "\n",
    "pd.DataFrame(values, columns=keys)"
   ]
  },
  {
   "cell_type": "markdown",
   "metadata": {
    "slideshow": {
     "slide_type": "subslide"
    }
   },
   "source": [
    "## Interventions\n",
    "\n",
    "It is possible to modify the parameters of the simulation during the execution via a set of explicit rules. This can come handy to reproduce the effect of countermeasures like lockdowns, contact tracing, and vaccines."
   ]
  },
  {
   "cell_type": "markdown",
   "metadata": {
    "slideshow": {
     "slide_type": "fragment"
    }
   },
   "source": [
    "A vaccine given on days 30 and 44 (two weeks later), with efficacy of 50% per dose which accumulates, given to 60% of the population, and which blocks 50% of acquisition and (among those who get infected even so) 90% of symptoms, would look like this:"
   ]
  },
  {
   "cell_type": "code",
   "execution_count": 10,
   "metadata": {
    "slideshow": {
     "slide_type": "-"
    }
   },
   "outputs": [],
   "source": [
    "vaccine = cv.vaccine(days=[30, 44], \n",
    "                     cumulative=[0.5, 0.5], \n",
    "                     prob=0.6, \n",
    "                     rel_sus=0.5, \n",
    "                     rel_symp=0.1)"
   ]
  },
  {
   "cell_type": "code",
   "execution_count": 11,
   "metadata": {
    "slideshow": {
     "slide_type": "subslide"
    }
   },
   "outputs": [
    {
     "name": "stdout",
     "output_type": "stream",
     "text": [
      "MultiSim summary:\n",
      "  Number of sims: 2\n",
      "  Reduced/combined: None\n",
      "  Base: Sim(\"Base\"; 2020-03-01 to 2020-05-30; pop: 10000 hybrid; epi: not run)\n",
      "  Sims:\n",
      "    0: Sim(\"Base\"; 2020-03-01 to 2020-05-30; pop: 10000 hybrid; epi: 8106⚙, 39☠)\n",
      "    1: Sim(\"Vaccine\"; 2020-03-01 to 2020-05-30; pop: 10000 hybrid; epi: 6275⚙, 18☠)\n",
      "\n"
     ]
    }
   ],
   "source": [
    "base_pars = dict(\n",
    "  pop_type='hybrid',\n",
    "  pop_size=10000,\n",
    "  n_days=90,\n",
    "  verbose=0\n",
    ")\n",
    "\n",
    "sim_base = cv.Sim(base_pars, label=\"Base\")\n",
    "sim_vaccine = cv.Sim(base_pars, interventions=vaccine, label=\"Vaccine\")\n",
    "msim = cv.MultiSim([sim_base, sim_vaccine])\n",
    "msim.run()\n",
    "msim.summarize()"
   ]
  },
  {
   "cell_type": "code",
   "execution_count": 18,
   "metadata": {
    "slideshow": {
     "slide_type": "subslide"
    }
   },
   "outputs": [
    {
     "data": {
      "image/png": "[encoded data removed]",
      "text/plain": [
       "<Figure size 1080x648 with 3 Axes>"
      ]
     },
     "metadata": {
      "needs_background": "light"
     },
     "output_type": "display_data"
    }
   ],
   "source": [
    "msim.plot(fig_args={\"figsize\": (15, 9)});"
   ]
  },
  {
   "cell_type": "markdown",
   "metadata": {
    "pycharm": {
     "name": "#%% md\n"
    },
    "slideshow": {
     "slide_type": "slide"
    }
   },
   "source": [
    "# Generate the Dataset"
   ]
  },
  {
   "cell_type": "markdown",
   "metadata": {
    "pycharm": {
     "name": "#%% md\n"
    },
    "slideshow": {
     "slide_type": "subslide"
    }
   },
   "source": [
    "## Scenario\n",
    "\n",
    "We start by choosing a range of fixed parameters that define our scenario. As we will consider the evolution of the pandemic in Italy, we need to fix the location (which implicitly changes some behavioural and cultural aspects of the population, according to data that can be inspected with `cv.data.show_locations()`) and the information about hospital capacities, which has been retrieved from [Wikipedia](https://en.wikipedia.org/wiki/List_of_countries_by_hospital_beds). The simulation is run for 180 days and a populaion of 50k agents, which could represent a medium-size city, with a 0.1% of initially infected individuals."
   ]
  },
  {
   "cell_type": "code",
   "execution_count": 13,
   "metadata": {
    "slideshow": {
     "slide_type": "fragment"
    }
   },
   "outputs": [],
   "source": [
    "fixed_params = {}\n",
    "fixed_params['pop_type'] = 'hybrid'                                  # hybrid population type (four default contact layers included)\n",
    "fixed_params['location'] = 'italy'                                   # households and age distribution data from italy\n",
    "fixed_params['n_days'] = 180                                         # 6-months simulation\n",
    "fixed_params['pop_size'] = 50e3                                      # 50k agents in total\n",
    "fixed_params['pop_infected'] = fixed_params['pop_size'] / 1e3        # 1 initial infected per 1k agents\n",
    "fixed_params['n_beds_hosp'] = fixed_params['pop_size'] * 3.18 / 1e3  # 3.18 hospital beds per 1k citizens\n",
    "fixed_params['n_beds_icu'] = fixed_params['pop_size'] * 12.5 / 100e3 # 12.5 hospital beds per 100k citizens\n",
    "fixed_params['verbose'] = 0                                          # suppress prints"
   ]
  },
  {
   "cell_type": "markdown",
   "metadata": {
    "slideshow": {
     "slide_type": "subslide"
    }
   },
   "source": [
    "Now, we define the variable parameters that will be used to generate our dataset."
   ]
  },
  {
   "cell_type": "code",
   "execution_count": 14,
   "metadata": {
    "pycharm": {
     "name": "#%%\n"
    },
    "slideshow": {
     "slide_type": "fragment"
    }
   },
   "outputs": [],
   "source": [
    "multi_params = [ (k, v) for k, v in dict(\n",
    "  rand_seed = range(3),                                              # 3 simulations per input values\n",
    "  n_imports = [5, 10],                                               # number of imported index cases\n",
    "  quar_period = [7, 14],                                             # length of the quarantine period in days\n",
    ").items() ]"
   ]
  },
  {
   "cell_type": "code",
   "execution_count": 15,
   "metadata": {
    "pycharm": {
     "name": "#%%\n"
    },
    "slideshow": {
     "slide_type": "fragment"
    }
   },
   "outputs": [],
   "source": [
    "params_list = comb.cartesian_product(multi_params, fixed_params)\n",
    "simulations = [cv.Sim(params, label=f'Sim {i}') for i, params in enumerate(params_list)]\n",
    "multi_sim = cv.MultiSim(simulations)\n",
    "multi_sim.run()\n",
    "\n",
    "input_keys = [key for key, _ in multi_params]\n",
    "output_keys = [key for key in multi_sim.sims[0].summary.keys() if 'cum' in key]\n",
    "values = []\n",
    "for i, simulation in enumerate(multi_sim.sims):\n",
    "  input_values = [params_list[i][key] for key in input_keys]\n",
    "  output_values = simulation.summary[output_keys]\n",
    "  values.append(input_values + output_values)"
   ]
  },
  {
   "cell_type": "markdown",
   "metadata": {
    "slideshow": {
     "slide_type": "subslide"
    }
   },
   "source": [
    "Finally, we can collect the results in a dataframe."
   ]
  },
  {
   "cell_type": "code",
   "execution_count": 16,
   "metadata": {
    "pycharm": {
     "name": "#%%\n"
    },
    "slideshow": {
     "slide_type": "fragment"
    }
   },
   "outputs": [
    {
     "data": {
      "text/html": [
       "<div>\n",
       "<style scoped>\n",
       "    .dataframe tbody tr th:only-of-type {\n",
       "        vertical-align: middle;\n",
       "    }\n",
       "\n",
       "    .dataframe tbody tr th {\n",
       "        vertical-align: top;\n",
       "    }\n",
       "\n",
       "    .dataframe thead th {\n",
       "        text-align: right;\n",
       "    }\n",
       "</style>\n",
       "<table border=\"1\" class=\"dataframe\">\n",
       "  <thead>\n",
       "    <tr style=\"text-align: right;\">\n",
       "      <th></th>\n",
       "      <th>rand_seed</th>\n",
       "      <th>n_imports</th>\n",
       "      <th>quar_period</th>\n",
       "      <th>cum_infections</th>\n",
       "      <th>cum_infectious</th>\n",
       "      <th>cum_tests</th>\n",
       "      <th>cum_diagnoses</th>\n",
       "      <th>cum_recoveries</th>\n",
       "      <th>cum_symptomatic</th>\n",
       "      <th>cum_severe</th>\n",
       "      <th>cum_critical</th>\n",
       "      <th>cum_deaths</th>\n",
       "      <th>cum_quarantined</th>\n",
       "    </tr>\n",
       "  </thead>\n",
       "  <tbody>\n",
       "    <tr>\n",
       "      <th>0</th>\n",
       "      <td>0</td>\n",
       "      <td>5</td>\n",
       "      <td>7</td>\n",
       "      <td>40560.0</td>\n",
       "      <td>40553.0</td>\n",
       "      <td>0.0</td>\n",
       "      <td>0.0</td>\n",
       "      <td>39366.0</td>\n",
       "      <td>28756.0</td>\n",
       "      <td>3072.0</td>\n",
       "      <td>1732.0</td>\n",
       "      <td>1169.0</td>\n",
       "      <td>0.0</td>\n",
       "    </tr>\n",
       "    <tr>\n",
       "      <th>1</th>\n",
       "      <td>0</td>\n",
       "      <td>5</td>\n",
       "      <td>14</td>\n",
       "      <td>40560.0</td>\n",
       "      <td>40553.0</td>\n",
       "      <td>0.0</td>\n",
       "      <td>0.0</td>\n",
       "      <td>39366.0</td>\n",
       "      <td>28756.0</td>\n",
       "      <td>3072.0</td>\n",
       "      <td>1732.0</td>\n",
       "      <td>1169.0</td>\n",
       "      <td>0.0</td>\n",
       "    </tr>\n",
       "    <tr>\n",
       "      <th>2</th>\n",
       "      <td>0</td>\n",
       "      <td>10</td>\n",
       "      <td>7</td>\n",
       "      <td>40872.0</td>\n",
       "      <td>40858.0</td>\n",
       "      <td>0.0</td>\n",
       "      <td>0.0</td>\n",
       "      <td>39604.0</td>\n",
       "      <td>28779.0</td>\n",
       "      <td>3116.0</td>\n",
       "      <td>1804.0</td>\n",
       "      <td>1236.0</td>\n",
       "      <td>0.0</td>\n",
       "    </tr>\n",
       "    <tr>\n",
       "      <th>3</th>\n",
       "      <td>0</td>\n",
       "      <td>10</td>\n",
       "      <td>14</td>\n",
       "      <td>40872.0</td>\n",
       "      <td>40858.0</td>\n",
       "      <td>0.0</td>\n",
       "      <td>0.0</td>\n",
       "      <td>39604.0</td>\n",
       "      <td>28779.0</td>\n",
       "      <td>3116.0</td>\n",
       "      <td>1804.0</td>\n",
       "      <td>1236.0</td>\n",
       "      <td>0.0</td>\n",
       "    </tr>\n",
       "    <tr>\n",
       "      <th>4</th>\n",
       "      <td>1</td>\n",
       "      <td>5</td>\n",
       "      <td>7</td>\n",
       "      <td>40576.0</td>\n",
       "      <td>40568.0</td>\n",
       "      <td>0.0</td>\n",
       "      <td>0.0</td>\n",
       "      <td>39351.0</td>\n",
       "      <td>28890.0</td>\n",
       "      <td>3133.0</td>\n",
       "      <td>1754.0</td>\n",
       "      <td>1204.0</td>\n",
       "      <td>0.0</td>\n",
       "    </tr>\n",
       "    <tr>\n",
       "      <th>5</th>\n",
       "      <td>1</td>\n",
       "      <td>5</td>\n",
       "      <td>14</td>\n",
       "      <td>40576.0</td>\n",
       "      <td>40568.0</td>\n",
       "      <td>0.0</td>\n",
       "      <td>0.0</td>\n",
       "      <td>39351.0</td>\n",
       "      <td>28890.0</td>\n",
       "      <td>3133.0</td>\n",
       "      <td>1754.0</td>\n",
       "      <td>1204.0</td>\n",
       "      <td>0.0</td>\n",
       "    </tr>\n",
       "    <tr>\n",
       "      <th>6</th>\n",
       "      <td>1</td>\n",
       "      <td>10</td>\n",
       "      <td>7</td>\n",
       "      <td>40782.0</td>\n",
       "      <td>40773.0</td>\n",
       "      <td>0.0</td>\n",
       "      <td>0.0</td>\n",
       "      <td>39559.0</td>\n",
       "      <td>28830.0</td>\n",
       "      <td>3082.0</td>\n",
       "      <td>1723.0</td>\n",
       "      <td>1191.0</td>\n",
       "      <td>0.0</td>\n",
       "    </tr>\n",
       "    <tr>\n",
       "      <th>7</th>\n",
       "      <td>1</td>\n",
       "      <td>10</td>\n",
       "      <td>14</td>\n",
       "      <td>40782.0</td>\n",
       "      <td>40773.0</td>\n",
       "      <td>0.0</td>\n",
       "      <td>0.0</td>\n",
       "      <td>39559.0</td>\n",
       "      <td>28830.0</td>\n",
       "      <td>3082.0</td>\n",
       "      <td>1723.0</td>\n",
       "      <td>1191.0</td>\n",
       "      <td>0.0</td>\n",
       "    </tr>\n",
       "    <tr>\n",
       "      <th>8</th>\n",
       "      <td>2</td>\n",
       "      <td>5</td>\n",
       "      <td>7</td>\n",
       "      <td>40282.0</td>\n",
       "      <td>40279.0</td>\n",
       "      <td>0.0</td>\n",
       "      <td>0.0</td>\n",
       "      <td>39044.0</td>\n",
       "      <td>28480.0</td>\n",
       "      <td>2982.0</td>\n",
       "      <td>1708.0</td>\n",
       "      <td>1222.0</td>\n",
       "      <td>0.0</td>\n",
       "    </tr>\n",
       "    <tr>\n",
       "      <th>9</th>\n",
       "      <td>2</td>\n",
       "      <td>5</td>\n",
       "      <td>14</td>\n",
       "      <td>40282.0</td>\n",
       "      <td>40279.0</td>\n",
       "      <td>0.0</td>\n",
       "      <td>0.0</td>\n",
       "      <td>39044.0</td>\n",
       "      <td>28480.0</td>\n",
       "      <td>2982.0</td>\n",
       "      <td>1708.0</td>\n",
       "      <td>1222.0</td>\n",
       "      <td>0.0</td>\n",
       "    </tr>\n",
       "    <tr>\n",
       "      <th>10</th>\n",
       "      <td>2</td>\n",
       "      <td>10</td>\n",
       "      <td>7</td>\n",
       "      <td>40606.0</td>\n",
       "      <td>40595.0</td>\n",
       "      <td>0.0</td>\n",
       "      <td>0.0</td>\n",
       "      <td>39377.0</td>\n",
       "      <td>28754.0</td>\n",
       "      <td>2978.0</td>\n",
       "      <td>1703.0</td>\n",
       "      <td>1189.0</td>\n",
       "      <td>0.0</td>\n",
       "    </tr>\n",
       "    <tr>\n",
       "      <th>11</th>\n",
       "      <td>2</td>\n",
       "      <td>10</td>\n",
       "      <td>14</td>\n",
       "      <td>40606.0</td>\n",
       "      <td>40595.0</td>\n",
       "      <td>0.0</td>\n",
       "      <td>0.0</td>\n",
       "      <td>39377.0</td>\n",
       "      <td>28754.0</td>\n",
       "      <td>2978.0</td>\n",
       "      <td>1703.0</td>\n",
       "      <td>1189.0</td>\n",
       "      <td>0.0</td>\n",
       "    </tr>\n",
       "  </tbody>\n",
       "</table>\n",
       "</div>"
      ],
      "text/plain": [
       "    rand_seed  n_imports  quar_period  cum_infections  cum_infectious  \\\n",
       "0           0          5            7         40560.0         40553.0   \n",
       "1           0          5           14         40560.0         40553.0   \n",
       "2           0         10            7         40872.0         40858.0   \n",
       "3           0         10           14         40872.0         40858.0   \n",
       "4           1          5            7         40576.0         40568.0   \n",
       "5           1          5           14         40576.0         40568.0   \n",
       "6           1         10            7         40782.0         40773.0   \n",
       "7           1         10           14         40782.0         40773.0   \n",
       "8           2          5            7         40282.0         40279.0   \n",
       "9           2          5           14         40282.0         40279.0   \n",
       "10          2         10            7         40606.0         40595.0   \n",
       "11          2         10           14         40606.0         40595.0   \n",
       "\n",
       "    cum_tests  cum_diagnoses  cum_recoveries  cum_symptomatic  cum_severe  \\\n",
       "0         0.0            0.0         39366.0          28756.0      3072.0   \n",
       "1         0.0            0.0         39366.0          28756.0      3072.0   \n",
       "2         0.0            0.0         39604.0          28779.0      3116.0   \n",
       "3         0.0            0.0         39604.0          28779.0      3116.0   \n",
       "4         0.0            0.0         39351.0          28890.0      3133.0   \n",
       "5         0.0            0.0         39351.0          28890.0      3133.0   \n",
       "6         0.0            0.0         39559.0          28830.0      3082.0   \n",
       "7         0.0            0.0         39559.0          28830.0      3082.0   \n",
       "8         0.0            0.0         39044.0          28480.0      2982.0   \n",
       "9         0.0            0.0         39044.0          28480.0      2982.0   \n",
       "10        0.0            0.0         39377.0          28754.0      2978.0   \n",
       "11        0.0            0.0         39377.0          28754.0      2978.0   \n",
       "\n",
       "    cum_critical  cum_deaths  cum_quarantined  \n",
       "0         1732.0      1169.0              0.0  \n",
       "1         1732.0      1169.0              0.0  \n",
       "2         1804.0      1236.0              0.0  \n",
       "3         1804.0      1236.0              0.0  \n",
       "4         1754.0      1204.0              0.0  \n",
       "5         1754.0      1204.0              0.0  \n",
       "6         1723.0      1191.0              0.0  \n",
       "7         1723.0      1191.0              0.0  \n",
       "8         1708.0      1222.0              0.0  \n",
       "9         1708.0      1222.0              0.0  \n",
       "10        1703.0      1189.0              0.0  \n",
       "11        1703.0      1189.0              0.0  "
      ]
     },
     "execution_count": 16,
     "metadata": {},
     "output_type": "execute_result"
    }
   ],
   "source": [
    "df = pd.DataFrame(values, columns=input_keys + output_keys)\n",
    "df.to_csv('data/covasim.csv')\n",
    "df"
   ]
  }
 ],
 "metadata": {
  "celltoolbar": "Slideshow",
  "kernelspec": {
   "display_name": "Python 3",
   "language": "python",
   "name": "python3"
  },
  "language_info": {
   "codemirror_mode": {
    "name": "ipython",
    "version": 3
   },
   "file_extension": ".py",
   "mimetype": "text/x-python",
   "name": "python",
   "nbconvert_exporter": "python",
   "pygments_lexer": "ipython3",
   "version": "3.7.6"
  }
 },
 "nbformat": 4,
 "nbformat_minor": 1
}
